{
 "cells": [
  {
   "cell_type": "markdown",
   "metadata": {},
   "source": [
    "# Personal Music Collection Database\n",
    "\n",
    "Time to gain some experience with SQL! In this project, I hope to both demonstrate and strengthen my knowledge of SQL by creating a database which contains information about my physical music collection. Although I do enjoy the ease of streaming services, there is something very special and nostalgic to me about owning physical media of the albums I love. In this project, let's use SQL to organize and understand my collections of records and cds."
   ]
  },
  {
   "cell_type": "markdown",
   "metadata": {},
   "source": [
    "> Note - This file primarily contains the creation of tables in my database, as well as functions for table insertion and querying. I provide documentation of these processes step-by-step, typically with a few examples of useage. I intend to create a separate file with more extensive usage of these functions."
   ]
  },
  {
   "cell_type": "markdown",
   "metadata": {},
   "source": [
    "# Table Creation"
   ]
  },
  {
   "cell_type": "markdown",
   "metadata": {},
   "source": [
    "Below, I import sqlite3 and connect to/create a database for my personal music connection. Next, I create four tables within this database. The first is for each artist I have physical media from, and the table contains that artist's id and name. The next table I created is for the albums themselves, and the table contains information pertaining to each such as its title, the id of the artist featured on it, and the year it was created. My third table simply distinguishes format type, pairing an id with each type of format (cd, vinyl, etc). Lastly, my final table combines the previous tables, identifying the albums based on both artist and format. "
   ]
  },
  {
   "cell_type": "code",
   "execution_count": 26,
   "metadata": {},
   "outputs": [
    {
     "data": {
      "text/plain": [
       "<sqlite3.Cursor at 0x107dd91c0>"
      ]
     },
     "execution_count": 26,
     "metadata": {},
     "output_type": "execute_result"
    }
   ],
   "source": [
    "# Import SQL\n",
    "import sqlite3\n",
    "\n",
    "# Connect to the database (which, we are creating it, because it does not yet exist)\n",
    "conn = sqlite3.connect('music_collection.db')\n",
    "cursor = conn.cursor()\n",
    "\n",
    "# Create a table for each artist I have music by\n",
    "# In later adaptations we could extend this to create table of bands, and each person in said band (ie, Stevie Nicks is both a solo artist and in Fleetwood Mac)\n",
    "cursor.execute(\"\"\"\n",
    "        CREATE TABLE IF NOT EXISTS Artists (\n",
    "               id INTEGER PRIMARY KEY,\n",
    "               name TEXT UNIQUE NOT NULL\n",
    "        )\n",
    "    \"\"\")\n",
    "\n",
    "# Create a table for each album I own, given its title, artist, and release year\n",
    "# In later adaptations, how can we consider features on albums? Multi-artist collaborations?\n",
    "cursor.execute(\"\"\"\n",
    "        CREATE TABLE IF NOT EXISTS Albums (\n",
    "               id INTEGER PRIMARY KEY,\n",
    "               title TEXT UNIQUE NOT NULL,\n",
    "               artist_id INTEGER NOT NULL,\n",
    "               year INTEGER,\n",
    "               FOREIGN KEY (artist_id) REFERENCES Artists(id),\n",
    "               UNIQUE (title, artist_id)\n",
    "        )\n",
    "    \"\"\")\n",
    "\n",
    "# Create a table for format types (because I own CDS, vinyl, and a few cassettes)\n",
    "cursor.execute(\"\"\"\n",
    "        CREATE TABLE IF NOT EXISTS Formats (\n",
    "               id INTEGER PRIMARY KEY,\n",
    "               format_name TEXT UNIQUE NOT NULL\n",
    "        )\n",
    "    \"\"\")\n",
    "\n",
    "# Create another table based on album/format type, combining the above information\n",
    "cursor.execute(\"\"\"\n",
    "        CREATE TABLE IF NOT EXISTS FormattedAlbums (\n",
    "               album_id INTEGER NOT NULL,\n",
    "               format_id INTEGER NOT NULL,\n",
    "               FOREIGN KEY (album_id) REFERENCES Albums(id),\n",
    "               FOREIGN KEY (format_id) REFERENCES Formats(id),\n",
    "               PRIMARY KEY (album_id, format_id)\n",
    "        )\n",
    "    \"\"\")"
   ]
  },
  {
   "cell_type": "markdown",
   "metadata": {},
   "source": [
    "# Insertion Functions"
   ]
  },
  {
   "cell_type": "markdown",
   "metadata": {},
   "source": [
    "Great! Now that we have these tables created, let's define some functions which will allow us to insert/query artists and albums.\n",
    "\n",
    "To start, lets create functions which insert our values onto each table. Additionally, I have created a few functions which find the id associated to an artist, album, or format, which I use in later functions as needed. "
   ]
  },
  {
   "cell_type": "code",
   "execution_count": 28,
   "metadata": {},
   "outputs": [],
   "source": [
    "def insert_artist(name):\n",
    "    \"\"\"This function inserts a new artist into our Artists table.\"\"\"\n",
    "    cursor.execute(\"\"\"INSERT OR IGNORE INTO Artists (name) VALUES (?)\"\"\", (name,))\n",
    "    conn.commit()\n",
    "    return cursor.lastrowid\n",
    "\n",
    "def find_artist_id(name):\n",
    "    cursor.execute(\"\"\"SELECT id FROM Artists WHERE name = ?\"\"\", (name,))\n",
    "    result = cursor.fetchone()\n",
    "    if result:\n",
    "        return result[0]\n",
    "    return None\n",
    "\n",
    "def insert_album(title, artist_name, year):\n",
    "    \"\"\"This function inserts an album into our Albums table if it doesn't already exist.\"\"\"\n",
    "    artist_id = find_artist_id(artist_name)\n",
    "    if not artist_id:\n",
    "        artist_id = insert_artist(artist_name) # if for some reason the artist is not in our Artists table, add it.\n",
    "    \n",
    "    # Check if the album already exists\n",
    "    cursor.execute(\"\"\"SELECT id FROM Albums WHERE title = ? AND artist_id = ?\"\"\", (title, artist_id))\n",
    "    result = cursor.fetchone()\n",
    "    if result:\n",
    "        print(f\"Album '{title}' by '{artist_name}' already exists in the database.\")\n",
    "        return result[0]\n",
    "    else:\n",
    "        cursor.execute(\"\"\"INSERT INTO Albums (title, artist_id, year) VALUES (?, ?, ?)\"\"\", (title, artist_id, year))\n",
    "        conn.commit()\n",
    "        return cursor.lastrowid\n",
    "\n",
    "def find_album_id(title):\n",
    "    cursor.execute(\"\"\"SELECT id FROM Albums WHERE title = ?\"\"\", (title,))\n",
    "    result = cursor.fetchone()\n",
    "    if result:\n",
    "        return result[0]\n",
    "    return None\n",
    "\n",
    "def load_format(format):\n",
    "    \"\"\"Insert any new possible format types of our media.\"\"\"\n",
    "    cursor.execute(\"\"\"INSERT INTO Formats (format_name) VALUES (?)\"\"\", (format,))\n",
    "    conn.commit()\n",
    "    return cursor.lastrowid\n",
    "\n",
    "def find_format_id(format):\n",
    "    \"\"\"We also need the id associated with each format type.\"\"\"\n",
    "    cursor.execute(\"\"\"SELECT id from Formats WHERE format_name = ?\"\"\", (format,))\n",
    "    format_id = cursor.fetchone()[0]\n",
    "    return format_id\n",
    "\n",
    "def insert_formatted_album(album_title, format_title):\n",
    "    \"\"\"Finally, we will use the above functions in order to insert an album also with its media type.\"\"\"\n",
    "    album_id = find_album_id(album_title)\n",
    "    format_id = find_format_id(format_title)\n",
    "    cursor.execute(\"\"\"INSERT OR IGNORE INTO FormattedAlbums (album_id, format_id) VALUES (?, ?)\"\"\", (album_id, format_id))\n",
    "    conn.commit()\n",
    "    return cursor.lastrowid\n"
   ]
  },
  {
   "cell_type": "markdown",
   "metadata": {},
   "source": [
    "# Query Functions"
   ]
  },
  {
   "cell_type": "markdown",
   "metadata": {},
   "source": [
    "Next, lets create some functions which Query the tables in our database:"
   ]
  },
  {
   "cell_type": "code",
   "execution_count": 3,
   "metadata": {},
   "outputs": [],
   "source": [
    "def query_artists():\n",
    "    \"\"\"Query all artists.\"\"\"\n",
    "    cursor.execute(\"SELECT * FROM Artists\")\n",
    "    rows = cursor.fetchall()\n",
    "    for row in rows:\n",
    "        print(row)\n",
    "\n",
    "def query_albums():\n",
    "    \"\"\"Query all albums.\"\"\"\n",
    "    cursor.execute(\"SELECT * FROM Albums\")\n",
    "    rows = cursor.fetchall()\n",
    "    for row in rows:\n",
    "        print(row)\n",
    "\n",
    "def query_formats():\n",
    "    \"\"\"Query all formats.\"\"\"\n",
    "    cursor.execute(\"SELECT * FROM Formats\")\n",
    "    rows = cursor.fetchall()\n",
    "    for row in rows:\n",
    "        print(row)\n",
    "\n",
    "def query_formatted_albums():\n",
    "    \"\"\"Query all formatted albums.\"\"\"\n",
    "    cursor.execute(\"\"\"\n",
    "    SELECT Albums.title, Artists.name, Albums.year, Formats.format_name\n",
    "    FROM FormattedAlbums\n",
    "    JOIN Albums ON FormattedAlbums.album_id = Albums.id\n",
    "    JOIN Artists ON Albums.artist_id = Artists.id\n",
    "    JOIN Formats ON FormattedAlbums.format_id = Formats.id\n",
    "    \"\"\")\n",
    "    rows = cursor.fetchall()\n",
    "    for row in rows:\n",
    "        print(row)"
   ]
  },
  {
   "cell_type": "markdown",
   "metadata": {},
   "source": [
    "After creating functions which both insert values into tables of our database, as well as query functions, we can demonstrate these functionalities by testing them. For example, let's add both Stevie Nicks and Fleetwood Mac to our Artists table. "
   ]
  },
  {
   "cell_type": "code",
   "execution_count": 4,
   "metadata": {},
   "outputs": [
    {
     "data": {
      "text/plain": [
       "0"
      ]
     },
     "execution_count": 4,
     "metadata": {},
     "output_type": "execute_result"
    }
   ],
   "source": [
    "insert_artist('Stevie Nicks')\n",
    "insert_artist('Fleetwood Mac')"
   ]
  },
  {
   "cell_type": "code",
   "execution_count": 5,
   "metadata": {},
   "outputs": [
    {
     "name": "stdout",
     "output_type": "stream",
     "text": [
      "(1, 'Stevie Nicks')\n",
      "(2, 'Fleetwood Mac')\n",
      "(3, 'Taylor Swift')\n"
     ]
    }
   ],
   "source": [
    "query_artists()"
   ]
  },
  {
   "cell_type": "markdown",
   "metadata": {},
   "source": [
    "Next, let's insert an album:"
   ]
  },
  {
   "cell_type": "code",
   "execution_count": 6,
   "metadata": {},
   "outputs": [
    {
     "name": "stdout",
     "output_type": "stream",
     "text": [
      "Album 'Bella Donna' by 'Stevie Nicks' already exists in the database.\n"
     ]
    },
    {
     "data": {
      "text/plain": [
       "1"
      ]
     },
     "execution_count": 6,
     "metadata": {},
     "output_type": "execute_result"
    }
   ],
   "source": [
    "insert_album('Bella Donna', 'Stevie Nicks', 1981)"
   ]
  },
  {
   "cell_type": "markdown",
   "metadata": {},
   "source": [
    "And then query the table:"
   ]
  },
  {
   "cell_type": "code",
   "execution_count": 7,
   "metadata": {},
   "outputs": [
    {
     "name": "stdout",
     "output_type": "stream",
     "text": [
      "(1, 'Bella Donna', 1, 1981)\n",
      "(2, 'Tango In The Night', 2, 1987)\n",
      "(3, 'Evermore', 3, 2020)\n",
      "(4, 'Greatest Hits', 2, 1988)\n",
      "(5, 'Penguin', 2, 1973)\n"
     ]
    }
   ],
   "source": [
    "query_albums()"
   ]
  },
  {
   "cell_type": "markdown",
   "metadata": {},
   "source": [
    "I own Bella Donna on vinyl, so let's make sure that was added to our table of possible format types... "
   ]
  },
  {
   "cell_type": "code",
   "execution_count": 8,
   "metadata": {},
   "outputs": [
    {
     "name": "stdout",
     "output_type": "stream",
     "text": [
      "(1, 'CD')\n",
      "(2, 'vinyl')\n",
      "(3, 'cassette')\n"
     ]
    }
   ],
   "source": [
    "query_formats()"
   ]
  },
  {
   "cell_type": "markdown",
   "metadata": {},
   "source": [
    "Perfect. Lastly, lets add the album to our table which includes description of format:"
   ]
  },
  {
   "cell_type": "code",
   "execution_count": 9,
   "metadata": {},
   "outputs": [
    {
     "data": {
      "text/plain": [
       "0"
      ]
     },
     "execution_count": 9,
     "metadata": {},
     "output_type": "execute_result"
    }
   ],
   "source": [
    "insert_formatted_album('Bella Donna', 'vinyl')"
   ]
  },
  {
   "cell_type": "markdown",
   "metadata": {},
   "source": [
    "And query this table..."
   ]
  },
  {
   "cell_type": "code",
   "execution_count": 10,
   "metadata": {},
   "outputs": [
    {
     "name": "stdout",
     "output_type": "stream",
     "text": [
      "('Tango In The Night', 'Fleetwood Mac', 1987, 'vinyl')\n",
      "('Evermore', 'Taylor Swift', 2020, 'vinyl')\n",
      "('Greatest Hits', 'Fleetwood Mac', 1988, 'vinyl')\n",
      "('Penguin', 'Fleetwood Mac', 1973, 'vinyl')\n",
      "('Tango In The Night', 'Fleetwood Mac', 1987, 'CD')\n",
      "('Bella Donna', 'Stevie Nicks', 1981, 'vinyl')\n"
     ]
    }
   ],
   "source": [
    "query_formatted_albums()"
   ]
  },
  {
   "cell_type": "markdown",
   "metadata": {},
   "source": [
    "Now that we have a functional system with Formatted Albums, we can further extend this project. For example, let's say that I give some albums away to a friend. It would be convenient to additionally have delete functions for tables where it seems applicable..."
   ]
  },
  {
   "cell_type": "code",
   "execution_count": 11,
   "metadata": {},
   "outputs": [],
   "source": [
    "#def delete_album(album_name):\n",
    "    #\"\"\"Delete an album from Albums.\"\"\"\n",
    "    #album_id = find_album_id(album_name)\n",
    "    #cursor.execute(\"\"\"DELETE FROM Albums WHERE id = ?\"\"\", (album_id,))\n",
    "\n",
    "def delete_formatted_album(album_name, format_name):\n",
    "    \"\"\"Delete a formatted album from FormattedAlbums.\"\"\"\n",
    "    album_id = find_album_id(album_name)\n",
    "    format_id = find_format_id(format_name)\n",
    "    cursor.execute(\"\"\"DELETE FROM FormattedAlbums WHERE album_id = ? AND format_id = ?\"\"\", (album_id, format_id))"
   ]
  },
  {
   "cell_type": "markdown",
   "metadata": {},
   "source": [
    "Hypothetically, I loan my vinyl Bella Donna album to a friend: it leaves my posession, so it also leaves the formatted table..."
   ]
  },
  {
   "cell_type": "code",
   "execution_count": 12,
   "metadata": {},
   "outputs": [
    {
     "name": "stdout",
     "output_type": "stream",
     "text": [
      "('Tango In The Night', 'Fleetwood Mac', 1987, 'vinyl')\n",
      "('Evermore', 'Taylor Swift', 2020, 'vinyl')\n",
      "('Greatest Hits', 'Fleetwood Mac', 1988, 'vinyl')\n",
      "('Penguin', 'Fleetwood Mac', 1973, 'vinyl')\n",
      "('Tango In The Night', 'Fleetwood Mac', 1987, 'CD')\n"
     ]
    }
   ],
   "source": [
    "delete_formatted_album('Bella Donna', 'vinyl')\n",
    "query_formatted_albums()"
   ]
  },
  {
   "cell_type": "markdown",
   "metadata": {},
   "source": [
    "We now have a way to delete albums from my collection. To me, it makes sense to simply create 'delete_formatted_album' for functionality with little need to create a delete Artist or Album function. Having those on hand to work with our database may be nice and we can create them later if necessary, but functionally I feel as though we only truly need to keep an accurate record of which physical pieces of media I have in my posession. Getting rid of my CD does not mean the album or artist should necessarily be deleted. "
   ]
  },
  {
   "cell_type": "markdown",
   "metadata": {},
   "source": [
    "# Querying Based on Time Period"
   ]
  },
  {
   "cell_type": "markdown",
   "metadata": {},
   "source": [
    "Next, we can create some functions which allow me to find trends in our database, and thus also allow me to organize my music collection in various ways. For example, what if I wanted to see which albums I have from various time periods? I love buying my current favorites, but I have also inherited a lot of vinyl from my parents. Let's create a function that allows me to see what music I have collected between various years:"
   ]
  },
  {
   "cell_type": "code",
   "execution_count": 13,
   "metadata": {},
   "outputs": [],
   "source": [
    "def formatted_album_between_years(start_year, end_year):\n",
    "    \"\"\"Query formatted albums which were released between the specified start and end years.\"\"\"\n",
    "    cursor.execute(\n",
    "        \"\"\"SELECT Albums.title, Artists.name, Albums.year, Formats.format_name\n",
    "            FROM FormattedAlbums\n",
    "            JOIN Albums ON FormattedAlbums.album_id = Albums.id\n",
    "            JOIN Artists ON Albums.artist_id = Artists.id\n",
    "            JOIN Formats ON FormattedAlbums.format_id = Formats.id\n",
    "            WHERE Albums.year BETWEEN ? AND ?\"\"\",\n",
    "            (start_year, end_year) )\n",
    "    between_albums = cursor.fetchall()\n",
    "    return between_albums"
   ]
  },
  {
   "cell_type": "markdown",
   "metadata": {},
   "source": [
    "Let's test this function by adding a few more albums back into our FormattedAlbums table."
   ]
  },
  {
   "cell_type": "code",
   "execution_count": 14,
   "metadata": {},
   "outputs": [
    {
     "name": "stdout",
     "output_type": "stream",
     "text": [
      "Album 'Tango In The Night' by 'Fleetwood Mac' already exists in the database.\n",
      "Album 'Evermore' by 'Taylor Swift' already exists in the database.\n"
     ]
    },
    {
     "data": {
      "text/plain": [
       "9"
      ]
     },
     "execution_count": 14,
     "metadata": {},
     "output_type": "execute_result"
    }
   ],
   "source": [
    "# Bella Donna is still in our Albums table, now let's re-instate that I have it in vinyl... My friend gave it back!\n",
    "insert_formatted_album('Bella Donna', 'vinyl')\n",
    "\n",
    "# Let's put Tango In The Night into both tables as well\n",
    "insert_album('Tango In The Night', 'Fleetwood Mac', 1987)\n",
    "insert_formatted_album('Tango In The Night', 'vinyl')\n",
    "\n",
    "# Lastly, for some comparison between time periods, let's add something more recent - Evermore by Taylor Swift, which I have on vinyl\n",
    "insert_artist('Taylor Swift')\n",
    "insert_album('Evermore', 'Taylor Swift', 2020)\n",
    "insert_formatted_album('Evermore', 'vinyl')"
   ]
  },
  {
   "cell_type": "markdown",
   "metadata": {},
   "source": [
    "Taylor Swift is much more recent than the works of Stevie Nicks. Let's confirm this by querying music which was released in the '80s, using our new function. We expect both Bella Donna and Tango In The Night to appear in this query, but not Evermore..."
   ]
  },
  {
   "cell_type": "code",
   "execution_count": 15,
   "metadata": {},
   "outputs": [
    {
     "data": {
      "text/plain": [
       "[('Tango In The Night', 'Fleetwood Mac', 1987, 'vinyl'),\n",
       " ('Greatest Hits', 'Fleetwood Mac', 1988, 'vinyl'),\n",
       " ('Tango In The Night', 'Fleetwood Mac', 1987, 'CD'),\n",
       " ('Bella Donna', 'Stevie Nicks', 1981, 'vinyl')]"
      ]
     },
     "execution_count": 15,
     "metadata": {},
     "output_type": "execute_result"
    }
   ],
   "source": [
    "formatted_album_between_years(1980, 1989)"
   ]
  },
  {
   "cell_type": "markdown",
   "metadata": {},
   "source": [
    "# Artist Popularity"
   ]
  },
  {
   "cell_type": "markdown",
   "metadata": {},
   "source": [
    "Another development that we can add to this project is some indication of artist popularity among my collection. Which artists do I own more of?"
   ]
  },
  {
   "cell_type": "code",
   "execution_count": 16,
   "metadata": {},
   "outputs": [],
   "source": [
    "def descending_count_albums_by_artist():\n",
    "    \"\"\"This function returns the number of albums I have in my posession by each artist, then sorts by popularity in descending order.\"\"\"\n",
    "    cursor.execute(\"\"\"\n",
    "        SELECT Artists.name, COUNT(Albums.id) as album_count\n",
    "        FROM Albums\n",
    "        JOIN Artists on Albums.artist_id = Artists.id\n",
    "        GROUP BY Artists.name\n",
    "        ORDER BY album_count DESC\n",
    "        \"\"\")\n",
    "    descending_count_query = cursor.fetchall()\n",
    "    return descending_count_query\n",
    "\n",
    "def artist_album_count(artist_name):\n",
    "    \"\"\"How many albums do I posess from this specific artist?\"\"\"\n",
    "    cursor.execute(\"\"\"\n",
    "        SELECT COUNT(Albums.id)\n",
    "        FROM Albums\n",
    "        JOIN Artists on Albums.artist_id = Artists.id\n",
    "        WHERE Artists.name = ?\"\"\", (artist_name,))\n",
    "    count = cursor.fetchone()[0]\n",
    "    return count"
   ]
  },
  {
   "cell_type": "markdown",
   "metadata": {},
   "source": [
    "To give a bit more comparison, let's add a few more albums by some of the artists we have been working with..."
   ]
  },
  {
   "cell_type": "code",
   "execution_count": 17,
   "metadata": {},
   "outputs": [
    {
     "name": "stdout",
     "output_type": "stream",
     "text": [
      "Album 'Greatest Hits' by 'Fleetwood Mac' already exists in the database.\n",
      "Album 'Penguin' by 'Fleetwood Mac' already exists in the database.\n"
     ]
    },
    {
     "data": {
      "text/plain": [
       "9"
      ]
     },
     "execution_count": 17,
     "metadata": {},
     "output_type": "execute_result"
    }
   ],
   "source": [
    "insert_album('Greatest Hits', 'Fleetwood Mac', 1988)\n",
    "insert_formatted_album('Greatest Hits', 'vinyl')\n",
    "\n",
    "insert_album('Penguin', 'Fleetwood Mac', 1973)\n",
    "insert_formatted_album('Penguin', 'vinyl')\n",
    "\n",
    "insert_formatted_album('Tango In The Night', 'CD') # This is my favorite Fleetwood Mac album. I own it in both vinyl and CD!"
   ]
  },
  {
   "cell_type": "markdown",
   "metadata": {},
   "source": [
    "Now lets test our above functions. We expect Fleetwood Mac to be in the lead, as we have inserted 3 physical pieces of media by them into the database. "
   ]
  },
  {
   "cell_type": "code",
   "execution_count": 18,
   "metadata": {},
   "outputs": [
    {
     "data": {
      "text/plain": [
       "[('Fleetwood Mac', 3), ('Taylor Swift', 1), ('Stevie Nicks', 1)]"
      ]
     },
     "execution_count": 18,
     "metadata": {},
     "output_type": "execute_result"
    }
   ],
   "source": [
    "descending_count_albums_by_artist()"
   ]
  },
  {
   "cell_type": "code",
   "execution_count": 19,
   "metadata": {},
   "outputs": [
    {
     "data": {
      "text/plain": [
       "3"
      ]
     },
     "execution_count": 19,
     "metadata": {},
     "output_type": "execute_result"
    }
   ],
   "source": [
    "artist_album_count('Fleetwood Mac')"
   ]
  },
  {
   "cell_type": "markdown",
   "metadata": {},
   "source": [
    "# Adding Genres"
   ]
  },
  {
   "cell_type": "markdown",
   "metadata": {},
   "source": [
    "I would additionally enjoy being able to classify the albums in this database by genre(s). What types of music do I usually listen to? By understanding more about my preferences, this will later allow us more ways to select and rediscover my music. "
   ]
  },
  {
   "cell_type": "markdown",
   "metadata": {},
   "source": [
    "Let's start this addition to the project by introducing a Genres table to store all possible genres, as well as an AlbumGenres table that maps Albums to Genres."
   ]
  },
  {
   "cell_type": "code",
   "execution_count": 20,
   "metadata": {},
   "outputs": [
    {
     "data": {
      "text/plain": [
       "<sqlite3.Cursor at 0x107dc6f40>"
      ]
     },
     "execution_count": 20,
     "metadata": {},
     "output_type": "execute_result"
    }
   ],
   "source": [
    "cursor.execute(\"\"\"\n",
    "        CREATE TABLE IF NOT EXISTS Genres (\n",
    "               id INTEGER PRIMARY KEY,\n",
    "               genre_name TEXT UNIQUE NOT NULL\n",
    "        )\"\"\")\n",
    "\n",
    "cursor.execute(\"\"\"\n",
    "        CREATE TABLE IF NOT EXISTS AlbumGenres (\n",
    "               album_id INTEGER,\n",
    "               genre_id INTEGER,\n",
    "               PRIMARY KEY (album_id, genre_id)\n",
    "               FOREIGN KEY (album_id) REFERENCES Albums(id),\n",
    "               FOREIGN KEY (genre_id) REFERENCES Genres(id)\n",
    "\n",
    "        )\"\"\")"
   ]
  },
  {
   "cell_type": "markdown",
   "metadata": {},
   "source": [
    "We additionally need functions to insert genres into our genre table, as well as to associate albums to various genres."
   ]
  },
  {
   "cell_type": "code",
   "execution_count": 21,
   "metadata": {},
   "outputs": [],
   "source": [
    "def insert_genre(genre_name):\n",
    "    \"\"\"Insert a new genre into Genres table, if it doesn't already exist.\"\"\"\n",
    "    cursor.execute(\"\"\"INSERT OR IGNORE INTO Genres (genre_name) VALUES (?)\"\"\", (genre_name,))\n",
    "    conn.commit()\n",
    "    return cursor.lastrowid\n",
    "\n",
    "def find_genre_id(genre_name):\n",
    "    \"\"\"Retrieve the id of a genre by its name.\"\"\"\n",
    "    cursor.execute(\"\"\"SELECT id FROM Genres WHERE genre_name = ?\"\"\", (genre_name,))\n",
    "    result = cursor.fetchone()\n",
    "    if result:\n",
    "        return result[0]\n",
    "    else:\n",
    "        return None\n",
    "\n",
    "def associate_album_with_genres(album_title, genre_names):\n",
    "    \"\"\"Associate an album with one or more genres.\"\"\"\n",
    "    album_id = find_album_id(album_title)\n",
    "    for genre_name in genre_names:\n",
    "        genre_id = find_genre_id(genre_name)\n",
    "        if genre_id is None:\n",
    "            genre_id = insert_genre(genre_name)\n",
    "        try:\n",
    "            cursor.execute(\"\"\"INSERT INTO AlbumGenres (album_id, genre_id) VALUES (?, ?)\"\"\", (album_id, genre_id))\n",
    "        except sqlite3.IntegrityError:\n",
    "            # Handle the case where the association already exists\n",
    "            print(f\"Album '{album_title}' is already associated with genre '{genre_name}'.\")\n",
    "    conn.commit()"
   ]
  },
  {
   "cell_type": "markdown",
   "metadata": {},
   "source": [
    "Functions aiding in query based upon genre will also be helpful..."
   ]
  },
  {
   "cell_type": "code",
   "execution_count": 22,
   "metadata": {},
   "outputs": [],
   "source": [
    "def get_albums_by_genre(genre_name):\n",
    "    \"\"\"Retrieve albums that belong to a specific genre.\"\"\"\n",
    "    cursor.execute(\"\"\"\n",
    "        SELECT Albums.title, Artists.name, Albums.year\n",
    "        FROM Albums\n",
    "        JOIN Artists ON Albums.artist_id = Artists.id\n",
    "        JOIN AlbumGenres ON Albums.id = AlbumGenres.album_id\n",
    "        JOIN Genres ON AlbumGenres.genre_id = Genres.id\n",
    "        WHERE Genres.genre_name = ?\n",
    "    \"\"\", (genre_name,))\n",
    "    albums = cursor.fetchall()\n",
    "    return albums"
   ]
  },
  {
   "cell_type": "markdown",
   "metadata": {},
   "source": [
    "Let's utilize our new genre-related functions with a few of the records we were previously working with."
   ]
  },
  {
   "cell_type": "code",
   "execution_count": 23,
   "metadata": {},
   "outputs": [
    {
     "name": "stdout",
     "output_type": "stream",
     "text": [
      "Album 'Tango In The Night' is already associated with genre 'Rock'.\n",
      "Album 'Tango In The Night' is already associated with genre 'Pop'.\n",
      "Album 'Evermore' is already associated with genre 'Folk'.\n",
      "Album 'Evermore' is already associated with genre 'Pop'.\n",
      "Album 'Greatest Hits' is already associated with genre 'Dance'.\n",
      "Album 'Greatest Hits' is already associated with genre 'Rock'.\n",
      "Album 'Greatest Hits' is already associated with genre 'Pop'.\n"
     ]
    }
   ],
   "source": [
    "insert_genre('Rock')\n",
    "insert_genre('Folk')\n",
    "insert_genre('Pop')\n",
    "insert_genre('Alternative')\n",
    "\n",
    "associate_album_with_genres('Tango In The Night', ['Rock', 'Pop'])\n",
    "associate_album_with_genres('Evermore', ['Folk', 'Pop'])\n",
    "associate_album_with_genres('Greatest Hits', ['Dance', 'Rock', 'Pop'])"
   ]
  },
  {
   "cell_type": "code",
   "execution_count": 24,
   "metadata": {},
   "outputs": [
    {
     "data": {
      "text/plain": [
       "[('Tango In The Night', 'Fleetwood Mac', 1987),\n",
       " ('Greatest Hits', 'Fleetwood Mac', 1988)]"
      ]
     },
     "execution_count": 24,
     "metadata": {},
     "output_type": "execute_result"
    }
   ],
   "source": [
    "rock_albums = get_albums_by_genre('Rock')\n",
    "rock_albums"
   ]
  },
  {
   "cell_type": "code",
   "execution_count": 25,
   "metadata": {},
   "outputs": [
    {
     "data": {
      "text/plain": [
       "[('Tango In The Night', 'Fleetwood Mac', 1987),\n",
       " ('Evermore', 'Taylor Swift', 2020),\n",
       " ('Greatest Hits', 'Fleetwood Mac', 1988)]"
      ]
     },
     "execution_count": 25,
     "metadata": {},
     "output_type": "execute_result"
    }
   ],
   "source": [
    "pop_albums = get_albums_by_genre('Pop')\n",
    "pop_albums"
   ]
  },
  {
   "cell_type": "markdown",
   "metadata": {},
   "source": [
    "Within this project I have certainly strengthened my foundational SQL skills through the creation of multiple related tables, as well as by developing functions which interact with the insertion and querying of these tables. I have also extended the project through a few iterations, such as by querying based upon release date, artist popularity, and additionally by adding consideration of album genres.\n",
    "\n",
    "This file contains many functions which I will be able to work with in order to categorize and explore my own record collection. My next step is to input my own physical media. After that, I intend to explore relationships in my own personal music collection with the functions I have developed above, as well as to potentially brainstorm other innovative ways to aid my music-selection process. Cheers!"
   ]
  },
  {
   "cell_type": "markdown",
   "metadata": {},
   "source": []
  }
 ],
 "metadata": {
  "kernelspec": {
   "display_name": "base",
   "language": "python",
   "name": "python3"
  },
  "language_info": {
   "codemirror_mode": {
    "name": "ipython",
    "version": 3
   },
   "file_extension": ".py",
   "mimetype": "text/x-python",
   "name": "python",
   "nbconvert_exporter": "python",
   "pygments_lexer": "ipython3",
   "version": "3.11.7"
  }
 },
 "nbformat": 4,
 "nbformat_minor": 2
}
